{
 "cells": [
  {
   "cell_type": "code",
   "execution_count": 3,
   "metadata": {},
   "outputs": [
    {
     "name": "stdout",
     "output_type": "stream",
     "text": [
      "Defaulting to user installation because normal site-packages is not writeable\n",
      "Requirement already satisfied: textblob in /Users/amal/Library/Python/3.9/lib/python/site-packages (0.18.0.post0)\n",
      "Requirement already satisfied: nltk>=3.8 in /Users/amal/Library/Python/3.9/lib/python/site-packages (from textblob) (3.9.1)\n",
      "Requirement already satisfied: click in /Users/amal/Library/Python/3.9/lib/python/site-packages (from nltk>=3.8->textblob) (8.1.7)\n",
      "Requirement already satisfied: joblib in /Users/amal/Library/Python/3.9/lib/python/site-packages (from nltk>=3.8->textblob) (1.4.2)\n",
      "Requirement already satisfied: regex>=2021.8.3 in /Users/amal/Library/Python/3.9/lib/python/site-packages (from nltk>=3.8->textblob) (2024.11.6)\n",
      "Requirement already satisfied: tqdm in /Users/amal/Library/Python/3.9/lib/python/site-packages (from nltk>=3.8->textblob) (4.67.1)\n",
      "\n",
      "\u001b[1m[\u001b[0m\u001b[34;49mnotice\u001b[0m\u001b[1;39;49m]\u001b[0m\u001b[39;49m A new release of pip is available: \u001b[0m\u001b[31;49m24.1.2\u001b[0m\u001b[39;49m -> \u001b[0m\u001b[32;49m24.3.1\u001b[0m\n",
      "\u001b[1m[\u001b[0m\u001b[34;49mnotice\u001b[0m\u001b[1;39;49m]\u001b[0m\u001b[39;49m To update, run: \u001b[0m\u001b[32;49m/Library/Developer/CommandLineTools/usr/bin/python3 -m pip install --upgrade pip\u001b[0m\n",
      "                   text     label predicted_sentimence\n",
      "0   He is a good person  positive             positive\n",
      "1  Its an average movie   neutral             negative\n",
      "2        It is horrible  negative             negative\n",
      "3         it is neutral   neutral              neutral\n",
      "Accuracy : 0.750000\n",
      "              precision    recall  f1-score   support\n",
      "\n",
      "    negative       0.50      1.00      0.67         1\n",
      "     neutral       1.00      0.50      0.67         2\n",
      "    positive       1.00      1.00      1.00         1\n",
      "\n",
      "    accuracy                           0.75         4\n",
      "   macro avg       0.83      0.83      0.78         4\n",
      "weighted avg       0.88      0.75      0.75         4\n",
      "\n"
     ]
    }
   ],
   "source": [
    "! pip install textblob\n",
    "import pandas as pd\n",
    "from textblob import TextBlob\n",
    "from sklearn.metrics import accuracy_score,classification_report\n",
    "\n",
    "def get_sentiment(text):\n",
    "    blob=TextBlob(text)\n",
    "\n",
    "    polarity = blob.sentiment.polarity\n",
    "    subjectivity = blob.sentiment.subjectivity\n",
    "\n",
    "    if polarity > 0:\n",
    "        sentiment = 'positive'\n",
    "    elif polarity < 0:\n",
    "        sentiment = 'negative'\n",
    "    else:\n",
    "        sentiment = 'neutral'\n",
    "\n",
    "    return sentiment,polarity,subjectivity\n",
    "\n",
    "\n",
    "data = {\n",
    "    'text':['He is a good person','Its an average movie','It is horrible','it is neutral'],\n",
    "    'label':['positive','neutral','negative','neutral']\n",
    "}\n",
    "\n",
    "df = pd.DataFrame(data)\n",
    "\n",
    "df['predicted_sentimence'],_,_ = zip(*df['text'].apply(get_sentiment))\n",
    "\n",
    "print(df[['text','label','predicted_sentimence']])\n",
    "\n",
    "accuracy_score = accuracy_score(df['label'],df['predicted_sentimence'])\n",
    "print(f'Accuracy : {accuracy_score:2f}')\n",
    "print(classification_report(df['label'],df['predicted_sentimence']))"
   ]
  }
 ],
 "metadata": {
  "kernelspec": {
   "display_name": "Python 3",
   "language": "python",
   "name": "python3"
  },
  "language_info": {
   "codemirror_mode": {
    "name": "ipython",
    "version": 3
   },
   "file_extension": ".py",
   "mimetype": "text/x-python",
   "name": "python",
   "nbconvert_exporter": "python",
   "pygments_lexer": "ipython3",
   "version": "3.9.6"
  }
 },
 "nbformat": 4,
 "nbformat_minor": 2
}
