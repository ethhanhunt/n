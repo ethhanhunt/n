{
 "cells": [
  {
   "cell_type": "code",
   "execution_count": 6,
   "metadata": {},
   "outputs": [
    {
     "name": "stderr",
     "output_type": "stream",
     "text": [
      "[nltk_data] Downloading package treebank to /Users/amal/nltk_data...\n",
      "[nltk_data]   Package treebank is already up-to-date!\n",
      "[nltk_data] Downloading package punkt to /Users/amal/nltk_data...\n",
      "[nltk_data]   Package punkt is already up-to-date!\n",
      "[nltk_data] Downloading package punkt_tab to /Users/amal/nltk_data...\n",
      "[nltk_data]   Package punkt_tab is already up-to-date!\n",
      "[nltk_data] Downloading package universal_tagset to\n",
      "[nltk_data]     /Users/amal/nltk_data...\n",
      "[nltk_data]   Package universal_tagset is already up-to-date!\n"
     ]
    },
    {
     "name": "stdout",
     "output_type": "stream",
     "text": [
      "[[('India', 'NOUN'), ('is', 'VERB'), ('my', 'PRON'), ('country', 'NOUN')]]\n"
     ]
    }
   ],
   "source": [
    "import nltk\n",
    "from nltk.corpus import treebank\n",
    "from nltk.tag.hmm import HiddenMarkovModelTrainer\n",
    "from nltk.tokenize import word_tokenize,sent_tokenize\n",
    "\n",
    "\n",
    "nltk.download('treebank')\n",
    "nltk.download('punkt')\n",
    "nltk.download('punkt_tab')\n",
    "nltk.download('universal_tagset')\n",
    "\n",
    "def trainer():\n",
    "    tagged_sents = treebank.tagged_sents(tagset='universal')\n",
    "    trainer = HiddenMarkovModelTrainer()\n",
    "    tagger = trainer.train(tagged_sents)\n",
    "    return tagger\n",
    "\n",
    "hmm_tagger=trainer()\n",
    "\n",
    "def pos_tag(sentence,tagger):\n",
    "  sent = sent_tokenize(sentence)\n",
    "  full_taggers=[]\n",
    "  for token in sent:\n",
    "    tokens = word_tokenize(token)\n",
    "    tagged_tokens = tagger.tag(tokens)\n",
    "    full_taggers.append(tagged_tokens)\n",
    "    \n",
    "  return full_taggers\n",
    "\n",
    "user_input='India is my country'\n",
    "print(pos_tag(user_input,hmm_tagger))"
   ]
  }
 ],
 "metadata": {
  "kernelspec": {
   "display_name": "Python 3",
   "language": "python",
   "name": "python3"
  },
  "language_info": {
   "codemirror_mode": {
    "name": "ipython",
    "version": 3
   },
   "file_extension": ".py",
   "mimetype": "text/x-python",
   "name": "python",
   "nbconvert_exporter": "python",
   "pygments_lexer": "ipython3",
   "version": "3.9.6"
  }
 },
 "nbformat": 4,
 "nbformat_minor": 2
}
