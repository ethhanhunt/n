{
 "cells": [
  {
   "cell_type": "code",
   "execution_count": 1,
   "metadata": {},
   "outputs": [
    {
     "name": "stderr",
     "output_type": "stream",
     "text": [
      "/Users/amal/Library/Python/3.9/lib/python/site-packages/urllib3/__init__.py:35: NotOpenSSLWarning: urllib3 v2 only supports OpenSSL 1.1.1+, currently the 'ssl' module is compiled with 'LibreSSL 2.8.3'. See: https://github.com/urllib3/urllib3/issues/3020\n",
      "  warnings.warn(\n"
     ]
    },
    {
     "name": "stdout",
     "output_type": "stream",
     "text": [
      "Tokens:\n",
      "Apple\n",
      "is\n",
      "looking\n",
      "at\n",
      "buying\n",
      "U.K.\n",
      "startup\n",
      "for\n",
      "$\n",
      "1\n",
      "billion\n",
      ".\n",
      "Tim\n",
      "Cook\n",
      "is\n",
      "the\n",
      "CEO\n",
      "of\n",
      "Apple\n",
      ".\n",
      "\n",
      "POS Tagging:\n",
      "Apple -> PROPN\n",
      "is -> AUX\n",
      "looking -> VERB\n",
      "at -> ADP\n",
      "buying -> VERB\n",
      "U.K. -> PROPN\n",
      "startup -> VERB\n",
      "for -> ADP\n",
      "$ -> SYM\n",
      "1 -> NUM\n",
      "billion -> NUM\n",
      ". -> PUNCT\n",
      "Tim -> PROPN\n",
      "Cook -> PROPN\n",
      "is -> AUX\n",
      "the -> DET\n",
      "CEO -> NOUN\n",
      "of -> ADP\n",
      "Apple -> PROPN\n",
      ". -> PUNCT\n",
      "\n",
      "Named Entities:\n",
      "Apple -> ORG\n",
      "U.K. -> GPE\n",
      "$1 billion -> MONEY\n",
      "Tim Cook -> PERSON\n",
      "Apple -> ORG\n"
     ]
    }
   ],
   "source": [
    "import spacy\n",
    "\n",
    "# Load the English language model\n",
    "nlp = spacy.load('en_core_web_sm')\n",
    "\n",
    "# Sample text\n",
    "text = \"Apple is looking at buying company for $1 billion. Tim Cook is the CEO of Apple.\"\n",
    "\n",
    "# Process the text using spaCy\n",
    "doc = nlp(text)\n",
    "\n",
    "# 1. Tokenization: Print each token (word) in the text\n",
    "print(\"Tokens:\")\n",
    "for token in doc:\n",
    "    print(token.text)\n",
    "\n",
    "# 2. Part-of-Speech (POS) Tagging: Print the POS of each token\n",
    "print(\"\\nPOS Tagging:\")\n",
    "for token in doc:\n",
    "    print(f\"{token.text} -> {token.pos_}\")\n",
    "\n",
    "# 3. Named Entity Recognition (NER): Print entities recognized in the text\n",
    "print(\"\\nNamed Entities:\")\n",
    "for ent in doc.ents:\n",
    "    print(f\"{ent.text} -> {ent.label_}\")\n"
   ]
  }
 ],
 "metadata": {
  "kernelspec": {
   "display_name": "Python 3",
   "language": "python",
   "name": "python3"
  },
  "language_info": {
   "codemirror_mode": {
    "name": "ipython",
    "version": 3
   },
   "file_extension": ".py",
   "mimetype": "text/x-python",
   "name": "python",
   "nbconvert_exporter": "python",
   "pygments_lexer": "ipython3",
   "version": "3.9.6"
  }
 },
 "nbformat": 4,
 "nbformat_minor": 2
}
