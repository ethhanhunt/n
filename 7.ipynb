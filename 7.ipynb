{
 "cells": [
  {
   "cell_type": "code",
   "execution_count": 1,
   "metadata": {},
   "outputs": [
    {
     "name": "stderr",
     "output_type": "stream",
     "text": [
      "/Users/amal/Library/Python/3.9/lib/python/site-packages/urllib3/__init__.py:35: NotOpenSSLWarning: urllib3 v2 only supports OpenSSL 1.1.1+, currently the 'ssl' module is compiled with 'LibreSSL 2.8.3'. See: https://github.com/urllib3/urllib3/issues/3020\n",
      "  warnings.warn(\n"
     ]
    },
    {
     "name": "stdout",
     "output_type": "stream",
     "text": [
      "Original Text: John went to the store. He bought milk.\n",
      "Resolved Text: John went to the store. store bought milk.\n"
     ]
    }
   ],
   "source": [
    "import spacy\n",
    "\n",
    "def resolve_pronouns(text):\n",
    "    nlp = spacy.load(\"en_core_web_sm\")  # Load spaCy's English model\n",
    "    doc = nlp(text)\n",
    "\n",
    "    # Dictionary to store resolved pronouns\n",
    "    resolved_text = text\n",
    "    antecedents = []  # List of noun phrases or entities for reference\n",
    "\n",
    "    for token in doc:\n",
    "        if token.pos_ == \"PRON\":  # Check if the token is a pronoun\n",
    "            # Find possible antecedents in the sentence or previous context\n",
    "            antecedent = None\n",
    "            for candidate in reversed(antecedents):\n",
    "                if (\n",
    "                    candidate.ent_type_ == token.ent_type_\n",
    "                    or (token.morph.get(\"Number\") == candidate.morph.get(\"Number\"))\n",
    "                ):\n",
    "                    antecedent = candidate.text\n",
    "                    break\n",
    "            \n",
    "            if antecedent:\n",
    "                # Replace pronoun in text with its antecedent\n",
    "                resolved_text = resolved_text.replace(token.text, antecedent, 1)\n",
    "        else:\n",
    "            # Keep track of potential antecedents (noun phrases or proper nouns)\n",
    "            if token.pos_ in [\"NOUN\", \"PROPN\"] or token.ent_type_:\n",
    "                antecedents.append(token)\n",
    "\n",
    "    return resolved_text\n",
    "\n",
    "\n",
    "# Example Usage\n",
    "text = \"John went to the store. He bought milk.\"\n",
    "resolved = resolve_pronouns(text)\n",
    "print(\"Original Text:\", text)\n",
    "print(\"Resolved Text:\", resolved)\n"
   ]
  }
 ],
 "metadata": {
  "kernelspec": {
   "display_name": "Python 3",
   "language": "python",
   "name": "python3"
  },
  "language_info": {
   "codemirror_mode": {
    "name": "ipython",
    "version": 3
   },
   "file_extension": ".py",
   "mimetype": "text/x-python",
   "name": "python",
   "nbconvert_exporter": "python",
   "pygments_lexer": "ipython3",
   "version": "3.9.6"
  }
 },
 "nbformat": 4,
 "nbformat_minor": 2
}
