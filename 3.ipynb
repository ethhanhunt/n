{
 "cells": [
  {
   "cell_type": "code",
   "execution_count": 4,
   "metadata": {},
   "outputs": [
    {
     "name": "stdout",
     "output_type": "stream",
     "text": [
      "Counter({('india', 'is'): 1, ('is', 'my'): 1, ('my', 'country'): 1, ('country', '.'): 1})\n",
      "Counter({('india', 'is', 'my'): 1, ('is', 'my', 'country'): 1, ('my', 'country', '.'): 1})\n",
      "Bigram:('india', 'is'),Probability1.000000\n",
      "Bigram:('is', 'my'),Probability1.000000\n",
      "Bigram:('my', 'country'),Probability1.000000\n",
      "Bigram:('country', '.'),Probability1.000000\n",
      "Trigram:('india', 'is', 'my'),Probability1.000000\n",
      "Trigram:('is', 'my', 'country'),Probability1.000000\n",
      "Trigram:('my', 'country', '.'),Probability1.000000\n"
     ]
    },
    {
     "name": "stderr",
     "output_type": "stream",
     "text": [
      "[nltk_data] Downloading package punkt to /Users/amal/nltk_data...\n",
      "[nltk_data]   Package punkt is already up-to-date!\n",
      "[nltk_data] Downloading package punkt_tab to /Users/amal/nltk_data...\n",
      "[nltk_data]   Package punkt_tab is already up-to-date!\n"
     ]
    }
   ],
   "source": [
    "import nltk\n",
    "nltk.download('punkt')\n",
    "nltk.download('punkt_tab')\n",
    "from collections import Counter\n",
    "from nltk.util import ngrams\n",
    "from nltk.tokenize import word_tokenize\n",
    "\n",
    "text='India is my country.'\n",
    "\n",
    "tokens = word_tokenize(text.lower())\n",
    "\n",
    "unigrams=list(ngrams(tokens,1))\n",
    "bigrams=list(ngrams(tokens,2))\n",
    "trigrams=list(ngrams(tokens,3))\n",
    "\n",
    "unigrams_count =Counter(unigrams)\n",
    "bigrams_count =Counter(bigrams)\n",
    "trigrams_count =Counter(trigrams)\n",
    "print(bigrams_count)\n",
    "print(trigrams_count)\n",
    "\n",
    "bigram_probabilities={\n",
    "    bigram:count / unigrams_count[(bigram[0],)]\n",
    "    for bigram,count in bigrams_count.items()\n",
    "}\n",
    "\n",
    "trigarm_probabilities={\n",
    "    trigram:count / bigrams_count[(trigram[0],trigram[1])]\n",
    "    for trigram,count in trigrams_count.items()\n",
    "}\n",
    "\n",
    "for bigram,prob in bigram_probabilities.items():\n",
    "  print(f'Bigram:{bigram},Probability{prob:4f}')\n",
    "\n",
    "for trigram,prob in trigarm_probabilities.items():\n",
    "  print(f'Trigram:{trigram},Probability{prob:4f}')"
   ]
  }
 ],
 "metadata": {
  "kernelspec": {
   "display_name": "Python 3",
   "language": "python",
   "name": "python3"
  },
  "language_info": {
   "codemirror_mode": {
    "name": "ipython",
    "version": 3
   },
   "file_extension": ".py",
   "mimetype": "text/x-python",
   "name": "python",
   "nbconvert_exporter": "python",
   "pygments_lexer": "ipython3",
   "version": "3.9.6"
  }
 },
 "nbformat": 4,
 "nbformat_minor": 2
}
